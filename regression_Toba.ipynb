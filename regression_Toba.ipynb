{
 "cells": [
  {
   "cell_type": "markdown",
   "id": "75a8959d-1ac3-4d25-b928-528b9656b0e8",
   "metadata": {},
   "source": [
    "## Final Project: Regression Analysis – Medical Insurance Charges\n",
    "**Name:** Toba  \n",
    "**Date:** March 29, 2025  \n",
    "\n",
    "This project applies regression modeling techniques to predict **medical insurance charges** based on personal and lifestyle factors such as **age**, **BMI**, and **smoking status**. The dataset used is from Kaggle’s [Medical Cost Dataset](https://www.kaggle.com/datasets/mirichoi0218/insurance), and it includes numerical and categorical data for regression analysis. Our goal is to build and evaluate models that estimate insurance charges and understand the underlying relationships between features and the target.\n"
   ]
  },
  {
   "cell_type": "markdown",
   "id": "58f037ee-ced0-4f4f-b823-137b23f18862",
   "metadata": {},
   "source": [
    "## 🧪 Section 1: Import and Inspect the Data"
   ]
  },
  {
   "cell_type": "markdown",
   "id": "4f99e721-35e8-4498-9d33-e7a6b25a7053",
   "metadata": {},
   "source": [
    "* 1.1 Load the dataset and display the first 10 rows\n"
   ]
  },
  {
   "cell_type": "code",
   "execution_count": 1,
   "id": "ebd6bf80-435f-4ec5-ab0c-6a4a7ad706c8",
   "metadata": {},
   "outputs": [
    {
     "data": {
      "text/html": [
       "<div>\n",
       "<style scoped>\n",
       "    .dataframe tbody tr th:only-of-type {\n",
       "        vertical-align: middle;\n",
       "    }\n",
       "\n",
       "    .dataframe tbody tr th {\n",
       "        vertical-align: top;\n",
       "    }\n",
       "\n",
       "    .dataframe thead th {\n",
       "        text-align: right;\n",
       "    }\n",
       "</style>\n",
       "<table border=\"1\" class=\"dataframe\">\n",
       "  <thead>\n",
       "    <tr style=\"text-align: right;\">\n",
       "      <th></th>\n",
       "      <th>age</th>\n",
       "      <th>sex</th>\n",
       "      <th>bmi</th>\n",
       "      <th>children</th>\n",
       "      <th>smoker</th>\n",
       "      <th>region</th>\n",
       "      <th>charges</th>\n",
       "    </tr>\n",
       "  </thead>\n",
       "  <tbody>\n",
       "    <tr>\n",
       "      <th>0</th>\n",
       "      <td>19</td>\n",
       "      <td>female</td>\n",
       "      <td>27.900</td>\n",
       "      <td>0</td>\n",
       "      <td>yes</td>\n",
       "      <td>southwest</td>\n",
       "      <td>16884.92400</td>\n",
       "    </tr>\n",
       "    <tr>\n",
       "      <th>1</th>\n",
       "      <td>18</td>\n",
       "      <td>male</td>\n",
       "      <td>33.770</td>\n",
       "      <td>1</td>\n",
       "      <td>no</td>\n",
       "      <td>southeast</td>\n",
       "      <td>1725.55230</td>\n",
       "    </tr>\n",
       "    <tr>\n",
       "      <th>2</th>\n",
       "      <td>28</td>\n",
       "      <td>male</td>\n",
       "      <td>33.000</td>\n",
       "      <td>3</td>\n",
       "      <td>no</td>\n",
       "      <td>southeast</td>\n",
       "      <td>4449.46200</td>\n",
       "    </tr>\n",
       "    <tr>\n",
       "      <th>3</th>\n",
       "      <td>33</td>\n",
       "      <td>male</td>\n",
       "      <td>22.705</td>\n",
       "      <td>0</td>\n",
       "      <td>no</td>\n",
       "      <td>northwest</td>\n",
       "      <td>21984.47061</td>\n",
       "    </tr>\n",
       "    <tr>\n",
       "      <th>4</th>\n",
       "      <td>32</td>\n",
       "      <td>male</td>\n",
       "      <td>28.880</td>\n",
       "      <td>0</td>\n",
       "      <td>no</td>\n",
       "      <td>northwest</td>\n",
       "      <td>3866.85520</td>\n",
       "    </tr>\n",
       "    <tr>\n",
       "      <th>5</th>\n",
       "      <td>31</td>\n",
       "      <td>female</td>\n",
       "      <td>25.740</td>\n",
       "      <td>0</td>\n",
       "      <td>no</td>\n",
       "      <td>southeast</td>\n",
       "      <td>3756.62160</td>\n",
       "    </tr>\n",
       "    <tr>\n",
       "      <th>6</th>\n",
       "      <td>46</td>\n",
       "      <td>female</td>\n",
       "      <td>33.440</td>\n",
       "      <td>1</td>\n",
       "      <td>no</td>\n",
       "      <td>southeast</td>\n",
       "      <td>8240.58960</td>\n",
       "    </tr>\n",
       "    <tr>\n",
       "      <th>7</th>\n",
       "      <td>37</td>\n",
       "      <td>female</td>\n",
       "      <td>27.740</td>\n",
       "      <td>3</td>\n",
       "      <td>no</td>\n",
       "      <td>northwest</td>\n",
       "      <td>7281.50560</td>\n",
       "    </tr>\n",
       "    <tr>\n",
       "      <th>8</th>\n",
       "      <td>37</td>\n",
       "      <td>male</td>\n",
       "      <td>29.830</td>\n",
       "      <td>2</td>\n",
       "      <td>no</td>\n",
       "      <td>northeast</td>\n",
       "      <td>6406.41070</td>\n",
       "    </tr>\n",
       "    <tr>\n",
       "      <th>9</th>\n",
       "      <td>60</td>\n",
       "      <td>female</td>\n",
       "      <td>25.840</td>\n",
       "      <td>0</td>\n",
       "      <td>no</td>\n",
       "      <td>northwest</td>\n",
       "      <td>28923.13692</td>\n",
       "    </tr>\n",
       "  </tbody>\n",
       "</table>\n",
       "</div>"
      ],
      "text/plain": [
       "   age     sex     bmi  children smoker     region      charges\n",
       "0   19  female  27.900         0    yes  southwest  16884.92400\n",
       "1   18    male  33.770         1     no  southeast   1725.55230\n",
       "2   28    male  33.000         3     no  southeast   4449.46200\n",
       "3   33    male  22.705         0     no  northwest  21984.47061\n",
       "4   32    male  28.880         0     no  northwest   3866.85520\n",
       "5   31  female  25.740         0     no  southeast   3756.62160\n",
       "6   46  female  33.440         1     no  southeast   8240.58960\n",
       "7   37  female  27.740         3     no  northwest   7281.50560\n",
       "8   37    male  29.830         2     no  northeast   6406.41070\n",
       "9   60  female  25.840         0     no  northwest  28923.13692"
      ]
     },
     "execution_count": 1,
     "metadata": {},
     "output_type": "execute_result"
    }
   ],
   "source": [
    "# Section 1. Import and Inspect the Data\n",
    "\n",
    "# 1.1 Load the dataset and display the first 10 rows\n",
    "import pandas as pd\n",
    "\n",
    "# Load dataset\n",
    "df = pd.read_csv(\"data/insurance.csv\")\n",
    "\n",
    "# Display first 10 rows\n",
    "df.head(10)\n"
   ]
  },
  {
   "cell_type": "markdown",
   "id": "26a81021-a06f-4deb-a10b-c8231fe9cbf5",
   "metadata": {},
   "source": [
    "* 1.2 Check for missing values and display summary statistics"
   ]
  },
  {
   "cell_type": "code",
   "execution_count": 2,
   "id": "571be2ca-e5b6-4642-bde9-0967c6775a7e",
   "metadata": {},
   "outputs": [
    {
     "name": "stdout",
     "output_type": "stream",
     "text": [
      "Missing Values:\n",
      " age         0\n",
      "sex         0\n",
      "bmi         0\n",
      "children    0\n",
      "smoker      0\n",
      "region      0\n",
      "charges     0\n",
      "dtype: int64\n",
      "\n",
      "Summary Statistics:\n",
      "                age          bmi     children       charges\n",
      "count  1338.000000  1338.000000  1338.000000   1338.000000\n",
      "mean     39.207025    30.663397     1.094918  13270.422265\n",
      "std      14.049960     6.098187     1.205493  12110.011237\n",
      "min      18.000000    15.960000     0.000000   1121.873900\n",
      "25%      27.000000    26.296250     0.000000   4740.287150\n",
      "50%      39.000000    30.400000     1.000000   9382.033000\n",
      "75%      51.000000    34.693750     2.000000  16639.912515\n",
      "max      64.000000    53.130000     5.000000  63770.428010\n"
     ]
    }
   ],
   "source": [
    "# 1.2 Check for missing values and display summary statistics\n",
    "print(\"Missing Values:\\n\", df.isnull().sum())\n",
    "print(\"\\nSummary Statistics:\\n\", df.describe())\n"
   ]
  },
  {
   "cell_type": "markdown",
   "id": "7ef65533-c1d4-41df-b465-ca213ee446d6",
   "metadata": {},
   "source": [
    "### Reflection 1:\n",
    "The dataset contains 1338 rows and 7 columns. There are no missing values, which simplifies preprocessing.  \n",
    "The target variable `charges` has a wide range, suggesting significant variance in medical costs.  \n",
    "Some features like `sex`, `smoker`, and `region` are categorical and will need to be encoded before model training.\n"
   ]
  },
  {
   "cell_type": "markdown",
   "id": "9886b093-9d8c-45a0-940e-1eccf7d61d8d",
   "metadata": {},
   "source": [
    "## ✨ Section 2: Data Exploration and Preparation"
   ]
  },
  {
   "cell_type": "markdown",
   "id": "1477442d-d0e1-455d-aa13-876a22809cf3",
   "metadata": {},
   "source": [
    "* 📊 2.1 Explore data patterns and distributions"
   ]
  },
  {
   "cell_type": "code",
   "execution_count": 3,
   "id": "10b723db-e6d1-458a-b6c4-2b8ba0aaba0f",
   "metadata": {},
   "outputs": [
    {
     "data": {
      "image/png": "[encoded data removed]",
      "text/plain": [
       "<Figure size 1200x800 with 4 Axes>"
      ]
     },
     "metadata": {},
     "output_type": "display_data"
    },
    {
     "data": {
      "image/png": "[encoded data removed]",
      "text/plain": [
       "<Figure size 800x400 with 1 Axes>"
      ]
     },
     "metadata": {},
     "output_type": "display_data"
    },
    {
     "data": {
      "image/png": "[encoded data removed]",
      "text/plain": [
       "<Figure size 600x400 with 1 Axes>"
      ]
     },
     "metadata": {},
     "output_type": "display_data"
    },
    {
     "data": {
      "image/png": "[encoded data removed]",
      "text/plain": [
       "<Figure size 600x400 with 1 Axes>"
      ]
     },
     "metadata": {},
     "output_type": "display_data"
    },
    {
     "data": {
      "image/png": "[encoded data removed]",
      "text/plain": [
       "<Figure size 600x400 with 1 Axes>"
      ]
     },
     "metadata": {},
     "output_type": "display_data"
    }
   ],
   "source": [
    "# 2.1 Explore data patterns and distributions\n",
    "\n",
    "import matplotlib.pyplot as plt\n",
    "import seaborn as sns\n",
    "\n",
    "# Set style\n",
    "sns.set(style=\"whitegrid\")\n",
    "\n",
    "# Plot histograms for numeric features\n",
    "df.hist(bins=30, figsize=(12, 8))\n",
    "plt.suptitle(\"Histograms of Numeric Features\", fontsize=16)\n",
    "plt.tight_layout()\n",
    "plt.show()\n",
    "\n",
    "# Boxplot to check for outliers in charges\n",
    "plt.figure(figsize=(8, 4))\n",
    "sns.boxplot(data=df, x='charges')\n",
    "plt.title(\"Boxplot of Insurance Charges\")\n",
    "plt.show()\n",
    "\n",
    "# Count plots for categorical features\n",
    "categorical_cols = ['sex', 'smoker', 'region']\n",
    "for col in categorical_cols:\n",
    "    plt.figure(figsize=(6, 4))\n",
    "    sns.countplot(data=df, x=col)\n",
    "    plt.title(f\"Count Plot of {col.capitalize()}\")\n",
    "    plt.show()\n"
   ]
  },
  {
   "cell_type": "markdown",
   "id": "d108c4d5-8ad6-46a4-a62f-6ed31a470a22",
   "metadata": {},
   "source": [
    "* 🛠 2.2 Handle missing values and clean data"
   ]
  },
  {
   "cell_type": "code",
   "execution_count": 4,
   "id": "237effd6-3dd4-4152-bb19-ade2fffebdce",
   "metadata": {},
   "outputs": [
    {
     "name": "stdout",
     "output_type": "stream",
     "text": [
      "Missing Values:\n",
      " age         0\n",
      "sex         0\n",
      "bmi         0\n",
      "children    0\n",
      "smoker      0\n",
      "region      0\n",
      "charges     0\n",
      "dtype: int64\n",
      "\n",
      "Outliers – BMI > 50 or Charges > 50000:\n",
      "      age     sex     bmi  children smoker     region      charges\n",
      "34     28    male  36.400         1    yes  southwest  51194.55914\n",
      "543    54  female  47.410         0    yes  southeast  63770.42801\n",
      "577    31  female  38.095         1    yes  northeast  58571.07448\n",
      "819    33  female  35.530         0    yes  northwest  55135.40209\n",
      "847    23    male  50.380         1     no  southeast   2438.05520\n",
      "1047   22    male  52.580         1    yes  southeast  44501.39820\n",
      "1146   60    male  32.800         0    yes  southwest  52590.82939\n",
      "1230   52    male  34.485         3    yes  northwest  60021.39897\n",
      "1300   45    male  30.360         0    yes  southeast  62592.87309\n",
      "1317   18    male  53.130         0     no  southeast   1163.46270\n"
     ]
    }
   ],
   "source": [
    "# 2.2 Handle missing values and clean data\n",
    "\n",
    "# Check for missing values again\n",
    "print(\"Missing Values:\\n\", df.isnull().sum())\n",
    "\n",
    "# No missing values or NaNs, so no imputation needed.\n",
    "\n",
    "# Check for outliers (e.g., extremely high BMI or charges)\n",
    "print(\"\\nOutliers – BMI > 50 or Charges > 50000:\")\n",
    "print(df[(df['bmi'] > 50) | (df['charges'] > 50000)])\n",
    "\n",
    "# Optional: Leave outlier removal for now (they're likely valid high-cost cases).\n"
   ]
  },
  {
   "cell_type": "code",
   "execution_count": 5,
   "id": "7ba61059-3df6-407f-829f-a0eea070929e",
   "metadata": {},
   "outputs": [
    {
     "data": {
      "text/html": [
       "<div>\n",
       "<style scoped>\n",
       "    .dataframe tbody tr th:only-of-type {\n",
       "        vertical-align: middle;\n",
       "    }\n",
       "\n",
       "    .dataframe tbody tr th {\n",
       "        vertical-align: top;\n",
       "    }\n",
       "\n",
       "    .dataframe thead th {\n",
       "        text-align: right;\n",
       "    }\n",
       "</style>\n",
       "<table border=\"1\" class=\"dataframe\">\n",
       "  <thead>\n",
       "    <tr style=\"text-align: right;\">\n",
       "      <th></th>\n",
       "      <th>age</th>\n",
       "      <th>bmi</th>\n",
       "      <th>children</th>\n",
       "      <th>charges</th>\n",
       "      <th>sex_male</th>\n",
       "      <th>smoker_yes</th>\n",
       "      <th>region_northwest</th>\n",
       "      <th>region_southeast</th>\n",
       "      <th>region_southwest</th>\n",
       "    </tr>\n",
       "  </thead>\n",
       "  <tbody>\n",
       "    <tr>\n",
       "      <th>0</th>\n",
       "      <td>19</td>\n",
       "      <td>27.900</td>\n",
       "      <td>0</td>\n",
       "      <td>16884.92400</td>\n",
       "      <td>False</td>\n",
       "      <td>True</td>\n",
       "      <td>False</td>\n",
       "      <td>False</td>\n",
       "      <td>True</td>\n",
       "    </tr>\n",
       "    <tr>\n",
       "      <th>1</th>\n",
       "      <td>18</td>\n",
       "      <td>33.770</td>\n",
       "      <td>1</td>\n",
       "      <td>1725.55230</td>\n",
       "      <td>True</td>\n",
       "      <td>False</td>\n",
       "      <td>False</td>\n",
       "      <td>True</td>\n",
       "      <td>False</td>\n",
       "    </tr>\n",
       "    <tr>\n",
       "      <th>2</th>\n",
       "      <td>28</td>\n",
       "      <td>33.000</td>\n",
       "      <td>3</td>\n",
       "      <td>4449.46200</td>\n",
       "      <td>True</td>\n",
       "      <td>False</td>\n",
       "      <td>False</td>\n",
       "      <td>True</td>\n",
       "      <td>False</td>\n",
       "    </tr>\n",
       "    <tr>\n",
       "      <th>3</th>\n",
       "      <td>33</td>\n",
       "      <td>22.705</td>\n",
       "      <td>0</td>\n",
       "      <td>21984.47061</td>\n",
       "      <td>True</td>\n",
       "      <td>False</td>\n",
       "      <td>True</td>\n",
       "      <td>False</td>\n",
       "      <td>False</td>\n",
       "    </tr>\n",
       "    <tr>\n",
       "      <th>4</th>\n",
       "      <td>32</td>\n",
       "      <td>28.880</td>\n",
       "      <td>0</td>\n",
       "      <td>3866.85520</td>\n",
       "      <td>True</td>\n",
       "      <td>False</td>\n",
       "      <td>True</td>\n",
       "      <td>False</td>\n",
       "      <td>False</td>\n",
       "    </tr>\n",
       "  </tbody>\n",
       "</table>\n",
       "</div>"
      ],
      "text/plain": [
       "   age     bmi  children      charges  sex_male  smoker_yes  region_northwest  \\\n",
       "0   19  27.900         0  16884.92400     False        True             False   \n",
       "1   18  33.770         1   1725.55230      True       False             False   \n",
       "2   28  33.000         3   4449.46200      True       False             False   \n",
       "3   33  22.705         0  21984.47061      True       False              True   \n",
       "4   32  28.880         0   3866.85520      True       False              True   \n",
       "\n",
       "   region_southeast  region_southwest  \n",
       "0             False              True  \n",
       "1              True             False  \n",
       "2              True             False  \n",
       "3             False             False  \n",
       "4             False             False  "
      ]
     },
     "execution_count": 5,
     "metadata": {},
     "output_type": "execute_result"
    }
   ],
   "source": [
    "# Convert categorical columns to numeric using one-hot encoding\n",
    "df_encoded = pd.get_dummies(df, drop_first=True)\n",
    "\n",
    "# View encoded dataset\n",
    "df_encoded.head()\n"
   ]
  },
  {
   "cell_type": "markdown",
   "id": "2797006f-98c1-4650-94be-43c475a8fbfd",
   "metadata": {},
   "source": [
    "* 🧠 2.3 Feature selection and engineering"
   ]
  },
  {
   "cell_type": "code",
   "execution_count": 6,
   "id": "322cf392-a5ca-4707-b8cf-fbd40cef82b0",
   "metadata": {},
   "outputs": [],
   "source": [
    "# Create a new feature: BMI Category (optional)\n",
    "df_encoded['bmi_over_30'] = df['bmi'].apply(lambda x: 1 if x > 30 else 0)\n",
    "\n",
    "# Scale numerical features later (in pipeline)\n"
   ]
  },
  {
   "cell_type": "markdown",
   "id": "2281dd5a-b2b9-46c2-a145-a9f096b1f754",
   "metadata": {},
   "source": [
    "### Reflection 2:\n",
    "The dataset is clean with no missing values. There are some outliers in the `charges` column, but they appear to be valid, possibly due to smoking or chronic illness.  \n",
    "The categorical variables were encoded using one-hot encoding.  \n",
    "I added a new binary feature `bmi_over_30` to help the model distinguish between individuals with high BMI, which may impact medical costs.\n"
   ]
  },
  {
   "cell_type": "markdown",
   "id": "175c2a25-ef2b-440a-bcca-72a5368a2e29",
   "metadata": {},
   "source": [
    "## 📌 Section 3: Feature Selection and Justification"
   ]
  },
  {
   "cell_type": "markdown",
   "id": "12438d3a-79ed-4425-9743-29624847d6d9",
   "metadata": {},
   "source": [
    "* 3.1 Choose features and target + justification\n",
    "In this case, we’ll choose the following:\n",
    "\n",
    "Features (X):\n",
    "\n",
    "* age: Medical cost often increases with age.\n",
    "\n",
    "* bmi: Higher BMI could be associated with more health risks.\n",
    "\n",
    "* children: More dependents may lead to higher insurance claims.\n",
    "\n",
    "* smoker_yes: Smoking status is a strong predictor of cost.\n",
    "\n",
    "* bmi_over_30: Custom binary feature for obesity risk.\n",
    "\n",
    "(We’re excluding region, as it may have a weaker effect.)\n",
    "\n",
    "* Target (y):\n",
    "\n",
    "charges: This is the numerical value we're trying to predict."
   ]
  },
  {
   "cell_type": "code",
   "execution_count": 7,
   "id": "f0894e8d-c2f0-4207-90d2-a6cea570e239",
   "metadata": {},
   "outputs": [],
   "source": [
    "# 3.1 Choose features and target\n",
    "\n",
    "# Define the features and target variable\n",
    "X = df_encoded[['age', 'bmi', 'children', 'smoker_yes', 'bmi_over_30']]\n",
    "y = df_encoded['charges']\n"
   ]
  },
  {
   "cell_type": "markdown",
   "id": "38bf5490-00b4-4c71-8305-9c926fe74757",
   "metadata": {},
   "source": [
    "* 3.2 Define X and y (already done above)"
   ]
  },
  {
   "cell_type": "markdown",
   "id": "7dc37267-fabc-44ce-b205-cfefa08ea919",
   "metadata": {},
   "source": [
    "### Reflection 3:\n",
    "The selected features are highly relevant to insurance costs. \n",
    "For example, `smoker_yes` tends to strongly affect the cost due to associated health risks.  \n",
    "`bmi_over_30` is a simplified way to capture the risk of obesity.  \n",
    "These features provide a good mix of health and lifestyle factors to help the model make accurate predictions.\n"
   ]
  },
  {
   "cell_type": "markdown",
   "id": "b5e21eec-da9a-42db-a251-f49ab8ca971c",
   "metadata": {},
   "source": [
    "## 🧠 Section 4: Train a Model (Linear Regression)"
   ]
  },
  {
   "cell_type": "markdown",
   "id": "53c8bd66-6187-4064-b2c6-66edae6d50bd",
   "metadata": {},
   "source": [
    "* 4.1 Split the data into training and test sets"
   ]
  },
  {
   "cell_type": "code",
   "execution_count": 8,
   "id": "6cf69a86-ca6d-49fa-a16d-af0807a0c0ed",
   "metadata": {},
   "outputs": [],
   "source": [
    "# 4.1 Split the data into training and test sets\n",
    "\n",
    "from sklearn.model_selection import train_test_split\n",
    "\n",
    "# 80/20 train-test split\n",
    "X_train, X_test, y_train, y_test = train_test_split(\n",
    "    X, y, test_size=0.2, random_state=42\n",
    ")\n"
   ]
  },
  {
   "cell_type": "markdown",
   "id": "946b20d2-666c-4646-90b9-2b53d94428e1",
   "metadata": {},
   "source": [
    "* 4.2 Train model using Scikit-Learn's LinearRegression"
   ]
  },
  {
   "cell_type": "code",
   "execution_count": 11,
   "id": "6ab13f22-a3d1-480d-b0ef-57dbbd846388",
   "metadata": {},
   "outputs": [
    {
     "name": "stdout",
     "output_type": "stream",
     "text": [
      "Model trained successfully!\n"
     ]
    }
   ],
   "source": [
    "# 4.2 Train the Linear Regression model\n",
    "\n",
    "from sklearn.linear_model import LinearRegression\n",
    "\n",
    "# Initialize and fit the model\n",
    "model = LinearRegression()\n",
    "model.fit(X_train, y_train)\n",
    "print(\"Model trained successfully!\")\n",
    "\n"
   ]
  },
  {
   "cell_type": "markdown",
   "id": "35cae138-1098-486e-a133-0eab2348e01a",
   "metadata": {},
   "source": [
    "* 4.3 Evaluate model performance\n",
    "  We’ll use 3 metrics:\n",
    "\n",
    "R² (Coefficient of determination)\n",
    "\n",
    "MAE (Mean Absolute Error)\n",
    "\n",
    "RMSE (Root Mean Squared Error)"
   ]
  },
  {
   "cell_type": "code",
   "execution_count": 12,
   "id": "7e7231e6-2614-41ac-8b80-8fb53004a365",
   "metadata": {},
   "outputs": [
    {
     "name": "stdout",
     "output_type": "stream",
     "text": [
      "R² Score: 0.7828\n",
      "Mean Absolute Error: $4,279.01\n",
      "Root Mean Squared Error: $5,806.82\n"
     ]
    }
   ],
   "source": [
    "# 4.3 Evaluate performance\n",
    "\n",
    "from sklearn.metrics import r2_score, mean_absolute_error, mean_squared_error\n",
    "import numpy as np\n",
    "\n",
    "# Predict on test set\n",
    "y_pred = model.predict(X_test)\n",
    "\n",
    "# Calculate metrics\n",
    "r2 = r2_score(y_test, y_pred)\n",
    "mae = mean_absolute_error(y_test, y_pred)\n",
    "rmse = np.sqrt(mean_squared_error(y_test, y_pred))\n",
    "\n",
    "# Print results\n",
    "print(f\"R² Score: {r2:.4f}\")\n",
    "print(f\"Mean Absolute Error: ${mae:,.2f}\")\n",
    "print(f\"Root Mean Squared Error: ${rmse:,.2f}\")\n"
   ]
  },
  {
   "cell_type": "markdown",
   "id": "41da9213-404c-4448-a306-287d96457a41",
   "metadata": {},
   "source": [
    "### Reflection 4:\n",
    "The model performs reasonably well, with an R² score showing decent predictive power.  \n",
    "MAE and RMSE are within a few thousand dollars, which is acceptable for a real-world problem like this.  \n",
    "One surprise is how strongly `smoker_yes` influences predictions — the model clearly learns that smoking significantly increases costs.\n"
   ]
  },
  {
   "cell_type": "markdown",
   "id": "858db341-0b34-49d3-96f1-c72fc59ad950",
   "metadata": {},
   "source": [
    "## 🔁 Section 5: Improve the Model or Try Alternates (Implement Pipelines)\n",
    "We'll create and compare two pipelines:\n",
    "\n",
    "Pipeline 1: Imputer → StandardScaler → Linear Regression\n",
    "\n",
    "Pipeline 2: Imputer → Polynomial Features (degree=3) → StandardScaler → Linear Regression"
   ]
  },
  {
   "cell_type": "markdown",
   "id": "2826e9d3-b0a9-4a6e-b845-b77d742810b7",
   "metadata": {},
   "source": [
    "* 5.1 Pipeline 1 – Imputer → Scaler → Linear Regression"
   ]
  },
  {
   "cell_type": "code",
   "execution_count": 13,
   "id": "5a2a7fd3-dc1b-4d8c-9902-49ad487f9096",
   "metadata": {},
   "outputs": [],
   "source": [
    "from sklearn.pipeline import Pipeline\n",
    "from sklearn.impute import SimpleImputer\n",
    "from sklearn.preprocessing import StandardScaler\n",
    "from sklearn.linear_model import LinearRegression\n",
    "\n",
    "# Pipeline 1: Imputer + Scaler + Linear Regression\n",
    "pipeline1 = Pipeline([\n",
    "    ('imputer', SimpleImputer(strategy='mean')),\n",
    "    ('scaler', StandardScaler()),\n",
    "    ('lr', LinearRegression())\n",
    "])\n",
    "\n",
    "# Fit and predict\n",
    "pipeline1.fit(X_train, y_train)\n",
    "y_pred1 = pipeline1.predict(X_test)\n"
   ]
  },
  {
   "cell_type": "markdown",
   "id": "b38e2441-68f9-4371-ac21-49549de00e1e",
   "metadata": {},
   "source": [
    "* 5.2 Pipeline 2 – Imputer → Polynomial Features → Scaler → Linear Regression"
   ]
  },
  {
   "cell_type": "code",
   "execution_count": 14,
   "id": "097a8638-5828-42a6-9da2-cfd2f0c74f05",
   "metadata": {},
   "outputs": [],
   "source": [
    "from sklearn.preprocessing import PolynomialFeatures\n",
    "\n",
    "# Pipeline 2: Imputer + Polynomial Features + Scaler + Linear Regression\n",
    "pipeline2 = Pipeline([\n",
    "    ('imputer', SimpleImputer(strategy='mean')),\n",
    "    ('poly', PolynomialFeatures(degree=3, include_bias=False)),\n",
    "    ('scaler', StandardScaler()),\n",
    "    ('lr', LinearRegression())\n",
    "])\n",
    "\n",
    "# Fit and predict\n",
    "pipeline2.fit(X_train, y_train)\n",
    "y_pred2 = pipeline2.predict(X_test)\n"
   ]
  },
  {
   "cell_type": "markdown",
   "id": "ba991708-5a52-417b-96ce-bd04ab189354",
   "metadata": {},
   "source": [
    "* 5.3 Compare Model Performance"
   ]
  },
  {
   "cell_type": "code",
   "execution_count": 15,
   "id": "a84540d1-04f5-48e2-b497-9820b5076ebc",
   "metadata": {},
   "outputs": [
    {
     "name": "stdout",
     "output_type": "stream",
     "text": [
      "🔹 Base Linear Regression\n",
      "R²: 0.7828 | MAE: $4,279.01 | RMSE: $5,806.82\n",
      "\n",
      "🔹 Pipeline 1 (Scaled Linear Regression)\n",
      "R²: 0.7828 | MAE: $4,279.01 | RMSE: $5,806.82\n",
      "\n",
      "🔹 Pipeline 2 (Polynomial Regression)\n",
      "R²: 0.8872 | MAE: $2,346.11 | RMSE: $4,184.31\n",
      "\n"
     ]
    }
   ],
   "source": [
    "def print_metrics(y_true, y_pred, label):\n",
    "    r2 = r2_score(y_true, y_pred)\n",
    "    mae = mean_absolute_error(y_true, y_pred)\n",
    "    rmse = np.sqrt(mean_squared_error(y_true, y_pred))\n",
    "    print(f\"🔹 {label}\")\n",
    "    print(f\"R²: {r2:.4f} | MAE: ${mae:,.2f} | RMSE: ${rmse:,.2f}\\n\")\n",
    "\n",
    "# Original model\n",
    "print_metrics(y_test, y_pred, \"Base Linear Regression\")\n",
    "\n",
    "# Pipeline 1\n",
    "print_metrics(y_test, y_pred1, \"Pipeline 1 (Scaled Linear Regression)\")\n",
    "\n",
    "# Pipeline 2\n",
    "print_metrics(y_test, y_pred2, \"Pipeline 2 (Polynomial Regression)\")\n"
   ]
  },
  {
   "cell_type": "markdown",
   "id": "43cbcbca-e974-492e-aefa-b0fd312e1cc9",
   "metadata": {},
   "source": [
    "### Reflection 5:\n",
    "Both pipelines improve the performance slightly over the base model.  \n",
    "Pipeline 1 benefits from feature scaling, making the model more stable.  \n",
    "Pipeline 2 captures nonlinear relationships using polynomial features and may overfit slightly due to complexity.  \n",
    "Scaling had a notable impact, especially when using polynomial features.  \n",
    "Overall, Pipeline 1 strikes a good balance between simplicity and performance.\n"
   ]
  },
  {
   "cell_type": "markdown",
   "id": "2066076a-0182-4cba-85a6-d4f6979859ff",
   "metadata": {},
   "source": [
    "## 🎓 Section 6: Final Thoughts & Insights"
   ]
  },
  {
   "cell_type": "markdown",
   "id": "700ef565-76a6-48cf-968c-582f93b88037",
   "metadata": {},
   "source": [
    "### 6.1 Summary of Findings:\n",
    "The regression model performed well in predicting medical insurance charges based on features like age, BMI, number of children, and smoking status.  \n",
    "The strongest predictor was smoking, with smokers having significantly higher predicted costs.\n",
    "\n",
    "### 6.2 Challenges Faced:\n",
    "One challenge was identifying meaningful features without introducing multicollinearity.  \n",
    "Another was balancing model complexity — polynomial features added some accuracy but increased the risk of overfitting.\n",
    "\n",
    "### 6.3 If I had more time:\n",
    "I would explore regularization techniques like Ridge or Lasso Regression to reduce overfitting,  \n",
    "and possibly include interaction terms between features such as BMI and smoker status.\n",
    "\n",
    "### Reflection 6:\n",
    "This project taught me how to apply regression techniques end-to-end — from exploring and cleaning data  \n",
    "to building pipelines and comparing models.  \n",
    "Using pipelines helped me structure and test different preprocessing steps efficiently.  \n",
    "I now feel more confident applying regression in real-world scenarios.\n"
   ]
  },
  {
   "cell_type": "code",
   "execution_count": null,
   "id": "a0a2334d-0f84-4794-94b5-c82aa1566ea9",
   "metadata": {},
   "outputs": [],
   "source": []
  }
 ],
 "metadata": {
  "kernelspec": {
   "display_name": "Python 3 (ipykernel)",
   "language": "python",
   "name": "python3"
  },
  "language_info": {
   "codemirror_mode": {
    "name": "ipython",
    "version": 3
   },
   "file_extension": ".py",
   "mimetype": "text/x-python",
   "name": "python",
   "nbconvert_exporter": "python",
   "pygments_lexer": "ipython3",
   "version": "3.11.0"
  }
 },
 "nbformat": 4,
 "nbformat_minor": 5
}
